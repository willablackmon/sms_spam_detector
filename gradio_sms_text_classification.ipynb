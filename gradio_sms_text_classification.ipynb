{
 "cells": [
  {
   "cell_type": "code",
   "execution_count": 1,
   "metadata": {},
   "outputs": [
    {
     "name": "stderr",
     "output_type": "stream",
     "text": [
      "c:\\Users\\black\\anaconda3\\envs\\dev\\Lib\\site-packages\\tqdm\\auto.py:21: TqdmWarning: IProgress not found. Please update jupyter and ipywidgets. See https://ipywidgets.readthedocs.io/en/stable/user_install.html\n",
      "  from .autonotebook import tqdm as notebook_tqdm\n"
     ]
    }
   ],
   "source": [
    "# Import pandas\n",
    "import pandas as pd\n",
    "# Import the required dependencies from sklearn\n",
    "from sklearn.model_selection import train_test_split\n",
    "from sklearn.pipeline import Pipeline\n",
    "from sklearn.feature_extraction.text import TfidfVectorizer\n",
    "from sklearn.svm import LinearSVC\n",
    "\n",
    "# Set the column width to view the text message data.\n",
    "pd.set_option('max_colwidth', 200)\n",
    "\n",
    "# Import Gradio\n",
    "import gradio as gr"
   ]
  },
  {
   "cell_type": "code",
   "execution_count": 2,
   "metadata": {},
   "outputs": [],
   "source": [
    "def sms_classification(sms_text_df):\n",
    "    \"\"\"\n",
    "    Perform SMS classification using a pipeline with TF-IDF vectorization and Linear Support Vector Classification.\n",
    "\n",
    "    Parameters:\n",
    "    - sms_text_df (pd.DataFrame): DataFrame containing 'text_message' and 'label' columns for SMS classification.\n",
    "\n",
    "    Returns:\n",
    "    - text_clf (Pipeline): Fitted pipeline model for SMS classification.\n",
    "\n",
    "    This function takes a DataFrame with 'text_message' and 'label' columns, splits the data into\n",
    "    training and testing sets, builds a pipeline with TF-IDF vectorization and Linear Support Vector\n",
    "    Classification, and fits the model to the training data. \n",
    "    The fitted pipeline is returned to make future predictions.\n",
    "    \"\"\"\n",
    "   # Set X features variable to text message; Set y target variable to \"label\" column. \n",
    "    X = sms_text_df['text_message']  \n",
    "    y = sms_text_df['label']\n",
    "   \n",
    "    # Split data into training and testing; set the test_size = 33%\n",
    "    X_train, X_test, y_train, y_test = train_test_split(X, y, test_size=0.33, random_state=42)\n",
    "    \n",
    "    # Build pipeline to transform the test set to compare to the training set.\n",
    "    text_clf = Pipeline([('tfidf', TfidfVectorizer(stop_words='english')),\n",
    "                     ('clf', LinearSVC()),\n",
    "    ])\n",
    "\n",
    "    # Fit the model to the transformed data.\n",
    "    text_clf.fit(X_train, y_train)  \n",
    "\n",
    "    # Fit the model to the transformed training data and return model.\n",
    "    return text_clf"
   ]
  },
  {
   "cell_type": "code",
   "execution_count": 3,
   "metadata": {},
   "outputs": [
    {
     "data": {
      "text/html": [
       "<div>\n",
       "<style scoped>\n",
       "    .dataframe tbody tr th:only-of-type {\n",
       "        vertical-align: middle;\n",
       "    }\n",
       "\n",
       "    .dataframe tbody tr th {\n",
       "        vertical-align: top;\n",
       "    }\n",
       "\n",
       "    .dataframe thead th {\n",
       "        text-align: right;\n",
       "    }\n",
       "</style>\n",
       "<table border=\"1\" class=\"dataframe\">\n",
       "  <thead>\n",
       "    <tr style=\"text-align: right;\">\n",
       "      <th></th>\n",
       "      <th>label</th>\n",
       "      <th>text_message</th>\n",
       "    </tr>\n",
       "  </thead>\n",
       "  <tbody>\n",
       "    <tr>\n",
       "      <th>0</th>\n",
       "      <td>ham</td>\n",
       "      <td>Go until jurong point, crazy.. Available only in bugis n great world la e buffet... Cine there got amore wat...</td>\n",
       "    </tr>\n",
       "    <tr>\n",
       "      <th>1</th>\n",
       "      <td>ham</td>\n",
       "      <td>Ok lar... Joking wif u oni...</td>\n",
       "    </tr>\n",
       "    <tr>\n",
       "      <th>2</th>\n",
       "      <td>spam</td>\n",
       "      <td>Free entry in 2 a wkly comp to win FA Cup final tkts 21st May 2005. Text FA to 87121 to receive entry question(std txt rate)T&amp;C's apply 08452810075over18's</td>\n",
       "    </tr>\n",
       "    <tr>\n",
       "      <th>3</th>\n",
       "      <td>ham</td>\n",
       "      <td>U dun say so early hor... U c already then say...</td>\n",
       "    </tr>\n",
       "    <tr>\n",
       "      <th>4</th>\n",
       "      <td>ham</td>\n",
       "      <td>Nah I don't think he goes to usf, he lives around here though</td>\n",
       "    </tr>\n",
       "  </tbody>\n",
       "</table>\n",
       "</div>"
      ],
      "text/plain": [
       "  label   \n",
       "0   ham  \\\n",
       "1   ham   \n",
       "2  spam   \n",
       "3   ham   \n",
       "4   ham   \n",
       "\n",
       "                                                                                                                                                  text_message  \n",
       "0                                              Go until jurong point, crazy.. Available only in bugis n great world la e buffet... Cine there got amore wat...  \n",
       "1                                                                                                                                Ok lar... Joking wif u oni...  \n",
       "2  Free entry in 2 a wkly comp to win FA Cup final tkts 21st May 2005. Text FA to 87121 to receive entry question(std txt rate)T&C's apply 08452810075over18's  \n",
       "3                                                                                                            U dun say so early hor... U c already then say...  \n",
       "4                                                                                                Nah I don't think he goes to usf, he lives around here though  "
      ]
     },
     "execution_count": 3,
     "metadata": {},
     "output_type": "execute_result"
    }
   ],
   "source": [
    "# Load the dataset into a DataFrame\n",
    "sms_text_df = pd.read_csv('Resources/SMSSpamCollection.csv')\n",
    "sms_text_df.head()"
   ]
  },
  {
   "cell_type": "code",
   "execution_count": 4,
   "metadata": {},
   "outputs": [],
   "source": [
    "# Call the sms_classification function with the DataFrame and set the result to the \"text_clf\" variable\n",
    "# sms_classification returns a fitted pipeline model for SMS classification\n",
    "text_clf = sms_classification(sms_text_df)\n"
   ]
  },
  {
   "cell_type": "code",
   "execution_count": 5,
   "metadata": {},
   "outputs": [],
   "source": [
    "# Create a function called `sms_prediction` that takes in the SMS text and predicts the whether the text is \"not spam\" or \"spam\". \n",
    "# The function should return the SMS message, and say whether the text is \"not spam\" or \"spam\".\n",
    "def sms_prediction(text):\n",
    "    \"\"\"\n",
    "    Predict the spam/ham classification of a given text message using a pre-trained model.\n",
    "\n",
    "    Parameters:\n",
    "    - text (str): The text message to be classified.\n",
    "\n",
    "    Returns:\n",
    "    - str: A message indicating whether the text message is classified as spam or not.\n",
    "\n",
    "    This function takes a text message and a pre-trained pipeline model, then predicts the\n",
    "    spam/ham classification of the text. The result is a message stating whether the text is\n",
    "    classified as spam or not.\n",
    "    \"\"\"\n",
    "    # Create a variable that will hold the prediction of a new text.\n",
    "\n",
    "    #  NOTE: The predict method of the Pipeline (and many other scikit-learn models) expects \n",
    "    #   an iterable (eg. list, array) as it is designed to handle batch predictions. \n",
    "    #   It can process multiple text documents at once, even if you’re only passing a single text message.\n",
    "    #   The method is designed to handle both single & multiple inputs in a consistent manner. \n",
    "    #   By always expecting an iterable, the method can uniformly process the input data.\n",
    "    #   Batch Processing: ML models often make predictions on multiple samples at once;\n",
    "    #     Expecting an iterable allows the model to efficiently handle batch predictions.\n",
    "    #   Data Transformation: The pipeline includes steps like TfidfVectorizer, which \n",
    "    #     are designed to transform a collection of text documents into numerical features.  \n",
    "    \n",
    "    prediction = text_clf.predict([text])\n",
    "    \n",
    "    #  text message is wrapped in a list when passed to the predict method.\n",
    "    #  prediction result is accessed using prediction[0] to get the actual label.\n",
    "    \n",
    "    # Use a conditional to give return, based on prediction\n",
    "    if prediction[0] == 'ham':\n",
    "        return f'The text message: \"{text}\", is not spam.' \n",
    "    else:\n",
    "        return f'The text message: \"{text}\", is spam.'\n",
    "    "
   ]
  },
  {
   "cell_type": "code",
   "execution_count": 6,
   "metadata": {},
   "outputs": [],
   "source": [
    "# For testing responses.\n",
    "spam_texts = [\n",
    "'Congratulations! Youve won a $1,000 gift card. Click here to claim your prize www.urldays.com',\n",
    "'URGENT: Your NetFlix account has been suspended. Verify your information here: www.netflix.corm/useracct',\n",
    "'You have a package waiting for you. Confirm delivery details: www.uspschecker.org',\n",
    "'Get a free iPhone now! Limited time offer, click here www.shorturl.com',\n",
    "'You’ve been selected for a special offer. Reply with your bank details to claim.']\n",
    "\n",
    "non_spam_texts = [\n",
    "'Hey just checking in. How you guys doing?',\n",
    "'Dont forget about the meeting tomorrow at 10 AM.',\n",
    "'Happy Birthday! Hope you have a fantastic day!',\n",
    "'Can you grab some groceries on ur way home?',\n",
    "'Sup! Let’s grab lunch this weekend. U free Saturday?']\n",
    "\n",
    "non_spam_genz_texts = [\n",
    "'omg kings of leon show was lit. cant believe we saw them live. 🔥',\n",
    "'Hey fam, wanna grab some brunch this weekend? lmk if ur down. 🥞',\n",
    "'finished my workout.  feelin swole rn. no cap!',\n",
    "'becoming ann on Netflix is a total vibe- Binge-watched whole thing lass night 😂',\n",
    "'u hear latest song from WKND? so on point, yo']\n",
    "\n",
    "small_spam_texts_sample = [\n",
    "    \"Congratulations! You've won a $1,000 gift card. Click here to claim your prize: [Link]\",\n",
    "    \"URGENT: Your account has been suspended. Verify your information here: [Link]\"\n",
    "]"
   ]
  },
  {
   "cell_type": "code",
   "execution_count": 7,
   "metadata": {},
   "outputs": [
    {
     "name": "stdout",
     "output_type": "stream",
     "text": [
      "The text message: \"omg kings of leon show was lit. cant believe we saw them live. 🔥\", is not spam.\n",
      "The text message: \"Hey fam, wanna grab some brunch this weekend? lmk if ur down. 🥞\", is not spam.\n",
      "The text message: \"finished my workout.  feelin swole rn. no cap!\", is not spam.\n",
      "The text message: \"becoming ann on Netflix is a total vibe- Binge-watched whole thing lass night 😂\", is not spam.\n",
      "The text message: \"u hear latest song from WKND? so on point, yo\", is not spam.\n"
     ]
    }
   ],
   "source": [
    "# Testing responses.\n",
    "for msg in non_spam_genz_texts:\n",
    "    print(sms_prediction(msg))"
   ]
  },
  {
   "cell_type": "code",
   "execution_count": 11,
   "metadata": {},
   "outputs": [
    {
     "name": "stdout",
     "output_type": "stream",
     "text": [
      "Running on local URL:  http://127.0.0.1:7863\n",
      "Running on public URL: https://8c1e24b3f196a3e570.gradio.live\n",
      "\n",
      "This share link expires in 72 hours. For free permanent hosting and GPU upgrades, run `gradio deploy` from Terminal to deploy to Spaces (https://huggingface.co/spaces)\n"
     ]
    },
    {
     "data": {
      "text/html": [
       "<div><iframe src=\"https://8c1e24b3f196a3e570.gradio.live\" width=\"100%\" height=\"500\" allow=\"autoplay; camera; microphone; clipboard-read; clipboard-write;\" frameborder=\"0\" allowfullscreen></iframe></div>"
      ],
      "text/plain": [
       "<IPython.core.display.HTML object>"
      ]
     },
     "metadata": {},
     "output_type": "display_data"
    },
    {
     "data": {
      "text/plain": []
     },
     "execution_count": 11,
     "metadata": {},
     "output_type": "execute_result"
    }
   ],
   "source": [
    "# Create a sms_app that takes a textbox for the inputs and has a textbox for the output.  \n",
    "# Povide labels for each textbox. \n",
    "\n",
    "# Create the Gradio interface\n",
    "iface = gr.Interface(\n",
    "    fn=sms_prediction,\n",
    "    inputs=gr.Textbox(lines=2, label=\"Input Text Message:\", placeholder=\"Enter your text message here...\", ),\n",
    "    outputs=gr.Textbox(label=\"Prediction Result:\"),\n",
    "    title=\"SMS Spam Detector\",\n",
    "    description=\"Input text message content and press 'Submit' to get a prediction on whether or not it is Spam:\"\n",
    ")\n",
    "\n",
    "# Launch the app.\n",
    "iface.launch(share=True)"
   ]
  },
  {
   "cell_type": "markdown",
   "metadata": {},
   "source": [
    "## Test the following text messages. \n",
    "\n",
    "---\n",
    "\n",
    "1. You are a lucky winner of $5000!\n",
    "2. You won 2 free tickets to the Super Bowl.\n",
    "3. You won 2 free tickets to the Super Bowl text us to claim your prize.\n",
    "4. Thanks for registering. Text 4343 to receive free updates on medicare."
   ]
  },
  {
   "cell_type": "code",
   "execution_count": null,
   "metadata": {},
   "outputs": [],
   "source": []
  }
 ],
 "metadata": {
  "kernelspec": {
   "display_name": "Python 3 (ipykernel)",
   "language": "python",
   "name": "python3"
  },
  "language_info": {
   "codemirror_mode": {
    "name": "ipython",
    "version": 3
   },
   "file_extension": ".py",
   "mimetype": "text/x-python",
   "name": "python",
   "nbconvert_exporter": "python",
   "pygments_lexer": "ipython3",
   "version": "3.11.9"
  }
 },
 "nbformat": 4,
 "nbformat_minor": 2
}
